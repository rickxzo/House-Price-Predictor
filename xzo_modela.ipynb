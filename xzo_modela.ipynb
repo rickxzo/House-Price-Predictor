{
 "cells": [
  {
   "cell_type": "markdown",
   "id": "921a54ae-34c7-48d5-855e-6fdb3a304d62",
   "metadata": {},
   "source": [
    "So, we now make a model for ourselves using all of the knowledge we have acquired."
   ]
  },
  {
   "cell_type": "markdown",
   "id": "64c7a6fc-a885-44e5-801a-f47e8fff9fd2",
   "metadata": {},
   "source": [
    "Lets have a clear idea of what we should do to make a good model\n",
    "Steps:\n",
    "- read the data\n",
    "- understand the variables\n",
    "- discart the unnecessary variables\n",
    "- impute the missing values\n",
    "- encode the categorical variables\n",
    "- find the ideal leaf node number\n",
    "- use crossvalidation for best mae result\n",
    "- use our best model ( XGBoost )\n",
    "- reduce the error"
   ]
  },
  {
   "cell_type": "markdown",
   "id": "72a93b0e-5deb-4815-af9b-777a82afe69e",
   "metadata": {},
   "source": [
    "We start by reading the data.\n",
    "We will be operating on melbourne housing data to predict the price of houses."
   ]
  },
  {
   "cell_type": "code",
   "execution_count": 3,
   "id": "8446848c-0f81-42c7-8e29-aabed03a89f3",
   "metadata": {},
   "outputs": [
    {
     "data": {
      "text/html": [
       "<div>\n",
       "<style scoped>\n",
       "    .dataframe tbody tr th:only-of-type {\n",
       "        vertical-align: middle;\n",
       "    }\n",
       "\n",
       "    .dataframe tbody tr th {\n",
       "        vertical-align: top;\n",
       "    }\n",
       "\n",
       "    .dataframe thead th {\n",
       "        text-align: right;\n",
       "    }\n",
       "</style>\n",
       "<table border=\"1\" class=\"dataframe\">\n",
       "  <thead>\n",
       "    <tr style=\"text-align: right;\">\n",
       "      <th></th>\n",
       "      <th>Rooms</th>\n",
       "      <th>Price</th>\n",
       "      <th>Distance</th>\n",
       "      <th>Postcode</th>\n",
       "      <th>Bedroom2</th>\n",
       "      <th>Bathroom</th>\n",
       "      <th>Car</th>\n",
       "      <th>Landsize</th>\n",
       "      <th>BuildingArea</th>\n",
       "      <th>YearBuilt</th>\n",
       "      <th>Lattitude</th>\n",
       "      <th>Longtitude</th>\n",
       "      <th>Propertycount</th>\n",
       "    </tr>\n",
       "  </thead>\n",
       "  <tbody>\n",
       "    <tr>\n",
       "      <th>count</th>\n",
       "      <td>13580.000000</td>\n",
       "      <td>1.358000e+04</td>\n",
       "      <td>13580.000000</td>\n",
       "      <td>13580.000000</td>\n",
       "      <td>13580.000000</td>\n",
       "      <td>13580.000000</td>\n",
       "      <td>13518.000000</td>\n",
       "      <td>13580.000000</td>\n",
       "      <td>7130.000000</td>\n",
       "      <td>8205.000000</td>\n",
       "      <td>13580.000000</td>\n",
       "      <td>13580.000000</td>\n",
       "      <td>13580.000000</td>\n",
       "    </tr>\n",
       "    <tr>\n",
       "      <th>mean</th>\n",
       "      <td>2.937997</td>\n",
       "      <td>1.075684e+06</td>\n",
       "      <td>10.137776</td>\n",
       "      <td>3105.301915</td>\n",
       "      <td>2.914728</td>\n",
       "      <td>1.534242</td>\n",
       "      <td>1.610075</td>\n",
       "      <td>558.416127</td>\n",
       "      <td>151.967650</td>\n",
       "      <td>1964.684217</td>\n",
       "      <td>-37.809203</td>\n",
       "      <td>144.995216</td>\n",
       "      <td>7454.417378</td>\n",
       "    </tr>\n",
       "    <tr>\n",
       "      <th>std</th>\n",
       "      <td>0.955748</td>\n",
       "      <td>6.393107e+05</td>\n",
       "      <td>5.868725</td>\n",
       "      <td>90.676964</td>\n",
       "      <td>0.965921</td>\n",
       "      <td>0.691712</td>\n",
       "      <td>0.962634</td>\n",
       "      <td>3990.669241</td>\n",
       "      <td>541.014538</td>\n",
       "      <td>37.273762</td>\n",
       "      <td>0.079260</td>\n",
       "      <td>0.103916</td>\n",
       "      <td>4378.581772</td>\n",
       "    </tr>\n",
       "    <tr>\n",
       "      <th>min</th>\n",
       "      <td>1.000000</td>\n",
       "      <td>8.500000e+04</td>\n",
       "      <td>0.000000</td>\n",
       "      <td>3000.000000</td>\n",
       "      <td>0.000000</td>\n",
       "      <td>0.000000</td>\n",
       "      <td>0.000000</td>\n",
       "      <td>0.000000</td>\n",
       "      <td>0.000000</td>\n",
       "      <td>1196.000000</td>\n",
       "      <td>-38.182550</td>\n",
       "      <td>144.431810</td>\n",
       "      <td>249.000000</td>\n",
       "    </tr>\n",
       "    <tr>\n",
       "      <th>25%</th>\n",
       "      <td>2.000000</td>\n",
       "      <td>6.500000e+05</td>\n",
       "      <td>6.100000</td>\n",
       "      <td>3044.000000</td>\n",
       "      <td>2.000000</td>\n",
       "      <td>1.000000</td>\n",
       "      <td>1.000000</td>\n",
       "      <td>177.000000</td>\n",
       "      <td>93.000000</td>\n",
       "      <td>1940.000000</td>\n",
       "      <td>-37.856822</td>\n",
       "      <td>144.929600</td>\n",
       "      <td>4380.000000</td>\n",
       "    </tr>\n",
       "    <tr>\n",
       "      <th>50%</th>\n",
       "      <td>3.000000</td>\n",
       "      <td>9.030000e+05</td>\n",
       "      <td>9.200000</td>\n",
       "      <td>3084.000000</td>\n",
       "      <td>3.000000</td>\n",
       "      <td>1.000000</td>\n",
       "      <td>2.000000</td>\n",
       "      <td>440.000000</td>\n",
       "      <td>126.000000</td>\n",
       "      <td>1970.000000</td>\n",
       "      <td>-37.802355</td>\n",
       "      <td>145.000100</td>\n",
       "      <td>6555.000000</td>\n",
       "    </tr>\n",
       "    <tr>\n",
       "      <th>75%</th>\n",
       "      <td>3.000000</td>\n",
       "      <td>1.330000e+06</td>\n",
       "      <td>13.000000</td>\n",
       "      <td>3148.000000</td>\n",
       "      <td>3.000000</td>\n",
       "      <td>2.000000</td>\n",
       "      <td>2.000000</td>\n",
       "      <td>651.000000</td>\n",
       "      <td>174.000000</td>\n",
       "      <td>1999.000000</td>\n",
       "      <td>-37.756400</td>\n",
       "      <td>145.058305</td>\n",
       "      <td>10331.000000</td>\n",
       "    </tr>\n",
       "    <tr>\n",
       "      <th>max</th>\n",
       "      <td>10.000000</td>\n",
       "      <td>9.000000e+06</td>\n",
       "      <td>48.100000</td>\n",
       "      <td>3977.000000</td>\n",
       "      <td>20.000000</td>\n",
       "      <td>8.000000</td>\n",
       "      <td>10.000000</td>\n",
       "      <td>433014.000000</td>\n",
       "      <td>44515.000000</td>\n",
       "      <td>2018.000000</td>\n",
       "      <td>-37.408530</td>\n",
       "      <td>145.526350</td>\n",
       "      <td>21650.000000</td>\n",
       "    </tr>\n",
       "  </tbody>\n",
       "</table>\n",
       "</div>"
      ],
      "text/plain": [
       "              Rooms         Price      Distance      Postcode      Bedroom2  \\\n",
       "count  13580.000000  1.358000e+04  13580.000000  13580.000000  13580.000000   \n",
       "mean       2.937997  1.075684e+06     10.137776   3105.301915      2.914728   \n",
       "std        0.955748  6.393107e+05      5.868725     90.676964      0.965921   \n",
       "min        1.000000  8.500000e+04      0.000000   3000.000000      0.000000   \n",
       "25%        2.000000  6.500000e+05      6.100000   3044.000000      2.000000   \n",
       "50%        3.000000  9.030000e+05      9.200000   3084.000000      3.000000   \n",
       "75%        3.000000  1.330000e+06     13.000000   3148.000000      3.000000   \n",
       "max       10.000000  9.000000e+06     48.100000   3977.000000     20.000000   \n",
       "\n",
       "           Bathroom           Car       Landsize  BuildingArea    YearBuilt  \\\n",
       "count  13580.000000  13518.000000   13580.000000   7130.000000  8205.000000   \n",
       "mean       1.534242      1.610075     558.416127    151.967650  1964.684217   \n",
       "std        0.691712      0.962634    3990.669241    541.014538    37.273762   \n",
       "min        0.000000      0.000000       0.000000      0.000000  1196.000000   \n",
       "25%        1.000000      1.000000     177.000000     93.000000  1940.000000   \n",
       "50%        1.000000      2.000000     440.000000    126.000000  1970.000000   \n",
       "75%        2.000000      2.000000     651.000000    174.000000  1999.000000   \n",
       "max        8.000000     10.000000  433014.000000  44515.000000  2018.000000   \n",
       "\n",
       "          Lattitude    Longtitude  Propertycount  \n",
       "count  13580.000000  13580.000000   13580.000000  \n",
       "mean     -37.809203    144.995216    7454.417378  \n",
       "std        0.079260      0.103916    4378.581772  \n",
       "min      -38.182550    144.431810     249.000000  \n",
       "25%      -37.856822    144.929600    4380.000000  \n",
       "50%      -37.802355    145.000100    6555.000000  \n",
       "75%      -37.756400    145.058305   10331.000000  \n",
       "max      -37.408530    145.526350   21650.000000  "
      ]
     },
     "execution_count": 3,
     "metadata": {},
     "output_type": "execute_result"
    }
   ],
   "source": [
    "import pandas as pd\n",
    "filepath = r\"C:\\Users\\goura\\Desktop\\Data Science\\melbourne_data_kaggle.csv\"\n",
    "data=pd.read_csv(filepath)\n",
    "data.describe()"
   ]
  },
  {
   "cell_type": "markdown",
   "id": "d6d880d2-c65a-4764-898a-65c53c5c6cde",
   "metadata": {},
   "source": [
    "We can have a look at the table and get idea about relevant values."
   ]
  },
  {
   "cell_type": "code",
   "execution_count": 4,
   "id": "8827b795-d8b7-47c4-99e6-db0a22d568d7",
   "metadata": {},
   "outputs": [
    {
     "data": {
      "text/plain": [
       "(13580, 21)"
      ]
     },
     "execution_count": 4,
     "metadata": {},
     "output_type": "execute_result"
    }
   ],
   "source": [
    "data.shape"
   ]
  },
  {
   "cell_type": "markdown",
   "id": "1f6b2c74-13cd-4354-a37d-4ce39cd568b1",
   "metadata": {},
   "source": [
    "We can see that we have a total of 13580 rows, 21 columns"
   ]
  },
  {
   "cell_type": "code",
   "execution_count": 5,
   "id": "2097a95b-d6aa-4ea9-aecd-369771a30040",
   "metadata": {},
   "outputs": [
    {
     "data": {
      "text/plain": [
       "Index(['Suburb', 'Address', 'Rooms', 'Type', 'Price', 'Method', 'SellerG',\n",
       "       'Date', 'Distance', 'Postcode', 'Bedroom2', 'Bathroom', 'Car',\n",
       "       'Landsize', 'BuildingArea', 'YearBuilt', 'CouncilArea', 'Lattitude',\n",
       "       'Longtitude', 'Regionname', 'Propertycount'],\n",
       "      dtype='object')"
      ]
     },
     "execution_count": 5,
     "metadata": {},
     "output_type": "execute_result"
    }
   ],
   "source": [
    "data.columns"
   ]
  },
  {
   "cell_type": "markdown",
   "id": "a7915004-ff48-492a-8544-c6aa3f45fd55",
   "metadata": {},
   "source": [
    "We will set the prediction target to be Price"
   ]
  },
  {
   "cell_type": "code",
   "execution_count": 6,
   "id": "0907bd96-d99e-4794-8e8a-ad7414fe262f",
   "metadata": {},
   "outputs": [],
   "source": [
    "Y=data.Price\n",
    "data=data.drop(['Price'], axis=1)"
   ]
  },
  {
   "cell_type": "markdown",
   "id": "802f9d7a-c964-41c3-a0b6-34231b022564",
   "metadata": {},
   "source": [
    "Now, we should be able to analyze which data to use for training our model.\n",
    "It contains a few steps:\n",
    "- classifying categorical and numerical columns\n",
    "- removing rest columns"
   ]
  },
  {
   "cell_type": "code",
   "execution_count": 7,
   "id": "02765399-9f86-4dc2-a6ba-7418a06724a4",
   "metadata": {},
   "outputs": [
    {
     "data": {
      "text/plain": [
       "['Type', 'Method', 'Regionname']"
      ]
     },
     "execution_count": 7,
     "metadata": {},
     "output_type": "execute_result"
    }
   ],
   "source": [
    "catcols=[x for x in data.columns if data[x].nunique()<10 and data[x].dtype=='object']\n",
    "catcols"
   ]
  },
  {
   "cell_type": "markdown",
   "id": "5507d921-7cf6-4f1d-919c-576723e92668",
   "metadata": {},
   "source": [
    "The above code has tracked the categorical data columns in the DF"
   ]
  },
  {
   "cell_type": "code",
   "execution_count": 8,
   "id": "a7c113d1-2692-4bb7-8846-6675023ed663",
   "metadata": {},
   "outputs": [
    {
     "data": {
      "text/plain": [
       "['Rooms',\n",
       " 'Distance',\n",
       " 'Postcode',\n",
       " 'Bedroom2',\n",
       " 'Bathroom',\n",
       " 'Car',\n",
       " 'Landsize',\n",
       " 'BuildingArea',\n",
       " 'YearBuilt',\n",
       " 'Lattitude',\n",
       " 'Longtitude',\n",
       " 'Propertycount']"
      ]
     },
     "execution_count": 8,
     "metadata": {},
     "output_type": "execute_result"
    }
   ],
   "source": [
    "numcols=[x for x in data.columns if data[x].dtype in ['int64','float64']]\n",
    "numcols"
   ]
  },
  {
   "cell_type": "markdown",
   "id": "926ffbff-1976-476d-a29c-fb6c51271fe8",
   "metadata": {},
   "source": [
    "The above code has tracked the numerical data columns in the DF"
   ]
  },
  {
   "cell_type": "code",
   "execution_count": 9,
   "id": "f72fff32-9c22-40f2-a0a7-d6cc3770f248",
   "metadata": {},
   "outputs": [
    {
     "data": {
      "text/plain": [
       "['Type',\n",
       " 'Method',\n",
       " 'Regionname',\n",
       " 'Rooms',\n",
       " 'Distance',\n",
       " 'Postcode',\n",
       " 'Bedroom2',\n",
       " 'Bathroom',\n",
       " 'Car',\n",
       " 'Landsize',\n",
       " 'BuildingArea',\n",
       " 'YearBuilt',\n",
       " 'Lattitude',\n",
       " 'Longtitude',\n",
       " 'Propertycount']"
      ]
     },
     "execution_count": 9,
     "metadata": {},
     "output_type": "execute_result"
    }
   ],
   "source": [
    "allcols=catcols+numcols\n",
    "allcols"
   ]
  },
  {
   "cell_type": "markdown",
   "id": "2486d5fe-2710-474d-bd92-9f69eec10f0f",
   "metadata": {},
   "source": [
    "So this is the set of columns we will be using to create our model."
   ]
  },
  {
   "cell_type": "code",
   "execution_count": 10,
   "id": "f0dc69bf-7aad-45c9-bed1-828da4112fbb",
   "metadata": {},
   "outputs": [
    {
     "data": {
      "text/plain": [
       "15"
      ]
     },
     "execution_count": 10,
     "metadata": {},
     "output_type": "execute_result"
    }
   ],
   "source": [
    "len(allcols)"
   ]
  },
  {
   "cell_type": "markdown",
   "id": "6a8c56f0-3e52-44ad-b400-e03e6e1df356",
   "metadata": {},
   "source": [
    "We have now considered all columns we will consider for the model analysis.\n",
    "There can be further improvement.\n",
    "We will now observe any column for which predictor values may not be available."
   ]
  },
  {
   "cell_type": "markdown",
   "id": "16363925-90fc-4b1b-a867-ec0e14b367d8",
   "metadata": {},
   "source": [
    "There is a certain phenomenon called Data Leakage.\n",
    "This happens when the data we fit into the model for training is not available for future values."
   ]
  },
  {
   "cell_type": "markdown",
   "id": "51fb94b3-b79a-4d4b-a610-99658ebd5c62",
   "metadata": {},
   "source": [
    "There are not any data leakage columns here.\n",
    "So we just need to remove the Price column."
   ]
  },
  {
   "cell_type": "code",
   "execution_count": 11,
   "id": "2ab7a6c0-7b47-4e17-a16f-388e467fcbc1",
   "metadata": {},
   "outputs": [
    {
     "data": {
      "text/html": [
       "<div>\n",
       "<style scoped>\n",
       "    .dataframe tbody tr th:only-of-type {\n",
       "        vertical-align: middle;\n",
       "    }\n",
       "\n",
       "    .dataframe tbody tr th {\n",
       "        vertical-align: top;\n",
       "    }\n",
       "\n",
       "    .dataframe thead th {\n",
       "        text-align: right;\n",
       "    }\n",
       "</style>\n",
       "<table border=\"1\" class=\"dataframe\">\n",
       "  <thead>\n",
       "    <tr style=\"text-align: right;\">\n",
       "      <th></th>\n",
       "      <th>Type</th>\n",
       "      <th>Method</th>\n",
       "      <th>Regionname</th>\n",
       "      <th>Rooms</th>\n",
       "      <th>Distance</th>\n",
       "      <th>Postcode</th>\n",
       "      <th>Bedroom2</th>\n",
       "      <th>Bathroom</th>\n",
       "      <th>Car</th>\n",
       "      <th>Landsize</th>\n",
       "      <th>BuildingArea</th>\n",
       "      <th>YearBuilt</th>\n",
       "      <th>Lattitude</th>\n",
       "      <th>Longtitude</th>\n",
       "      <th>Propertycount</th>\n",
       "    </tr>\n",
       "  </thead>\n",
       "  <tbody>\n",
       "    <tr>\n",
       "      <th>0</th>\n",
       "      <td>h</td>\n",
       "      <td>S</td>\n",
       "      <td>Northern Metropolitan</td>\n",
       "      <td>2</td>\n",
       "      <td>2.5</td>\n",
       "      <td>3067</td>\n",
       "      <td>2</td>\n",
       "      <td>1</td>\n",
       "      <td>1.0</td>\n",
       "      <td>202</td>\n",
       "      <td>NaN</td>\n",
       "      <td>NaN</td>\n",
       "      <td>-37.79960</td>\n",
       "      <td>144.99840</td>\n",
       "      <td>4019</td>\n",
       "    </tr>\n",
       "    <tr>\n",
       "      <th>1</th>\n",
       "      <td>h</td>\n",
       "      <td>S</td>\n",
       "      <td>Northern Metropolitan</td>\n",
       "      <td>2</td>\n",
       "      <td>2.5</td>\n",
       "      <td>3067</td>\n",
       "      <td>2</td>\n",
       "      <td>1</td>\n",
       "      <td>0.0</td>\n",
       "      <td>156</td>\n",
       "      <td>79.0</td>\n",
       "      <td>1900.0</td>\n",
       "      <td>-37.80790</td>\n",
       "      <td>144.99340</td>\n",
       "      <td>4019</td>\n",
       "    </tr>\n",
       "    <tr>\n",
       "      <th>2</th>\n",
       "      <td>h</td>\n",
       "      <td>SP</td>\n",
       "      <td>Northern Metropolitan</td>\n",
       "      <td>3</td>\n",
       "      <td>2.5</td>\n",
       "      <td>3067</td>\n",
       "      <td>3</td>\n",
       "      <td>2</td>\n",
       "      <td>0.0</td>\n",
       "      <td>134</td>\n",
       "      <td>150.0</td>\n",
       "      <td>1900.0</td>\n",
       "      <td>-37.80930</td>\n",
       "      <td>144.99440</td>\n",
       "      <td>4019</td>\n",
       "    </tr>\n",
       "    <tr>\n",
       "      <th>3</th>\n",
       "      <td>h</td>\n",
       "      <td>PI</td>\n",
       "      <td>Northern Metropolitan</td>\n",
       "      <td>3</td>\n",
       "      <td>2.5</td>\n",
       "      <td>3067</td>\n",
       "      <td>3</td>\n",
       "      <td>2</td>\n",
       "      <td>1.0</td>\n",
       "      <td>94</td>\n",
       "      <td>NaN</td>\n",
       "      <td>NaN</td>\n",
       "      <td>-37.79690</td>\n",
       "      <td>144.99690</td>\n",
       "      <td>4019</td>\n",
       "    </tr>\n",
       "    <tr>\n",
       "      <th>4</th>\n",
       "      <td>h</td>\n",
       "      <td>VB</td>\n",
       "      <td>Northern Metropolitan</td>\n",
       "      <td>4</td>\n",
       "      <td>2.5</td>\n",
       "      <td>3067</td>\n",
       "      <td>3</td>\n",
       "      <td>1</td>\n",
       "      <td>2.0</td>\n",
       "      <td>120</td>\n",
       "      <td>142.0</td>\n",
       "      <td>2014.0</td>\n",
       "      <td>-37.80720</td>\n",
       "      <td>144.99410</td>\n",
       "      <td>4019</td>\n",
       "    </tr>\n",
       "    <tr>\n",
       "      <th>...</th>\n",
       "      <td>...</td>\n",
       "      <td>...</td>\n",
       "      <td>...</td>\n",
       "      <td>...</td>\n",
       "      <td>...</td>\n",
       "      <td>...</td>\n",
       "      <td>...</td>\n",
       "      <td>...</td>\n",
       "      <td>...</td>\n",
       "      <td>...</td>\n",
       "      <td>...</td>\n",
       "      <td>...</td>\n",
       "      <td>...</td>\n",
       "      <td>...</td>\n",
       "      <td>...</td>\n",
       "    </tr>\n",
       "    <tr>\n",
       "      <th>13575</th>\n",
       "      <td>h</td>\n",
       "      <td>S</td>\n",
       "      <td>South-Eastern Metropolitan</td>\n",
       "      <td>4</td>\n",
       "      <td>16.7</td>\n",
       "      <td>3150</td>\n",
       "      <td>4</td>\n",
       "      <td>2</td>\n",
       "      <td>2.0</td>\n",
       "      <td>652</td>\n",
       "      <td>NaN</td>\n",
       "      <td>1981.0</td>\n",
       "      <td>-37.90562</td>\n",
       "      <td>145.16761</td>\n",
       "      <td>7392</td>\n",
       "    </tr>\n",
       "    <tr>\n",
       "      <th>13576</th>\n",
       "      <td>h</td>\n",
       "      <td>SP</td>\n",
       "      <td>Western Metropolitan</td>\n",
       "      <td>3</td>\n",
       "      <td>6.8</td>\n",
       "      <td>3016</td>\n",
       "      <td>3</td>\n",
       "      <td>2</td>\n",
       "      <td>2.0</td>\n",
       "      <td>333</td>\n",
       "      <td>133.0</td>\n",
       "      <td>1995.0</td>\n",
       "      <td>-37.85927</td>\n",
       "      <td>144.87904</td>\n",
       "      <td>6380</td>\n",
       "    </tr>\n",
       "    <tr>\n",
       "      <th>13577</th>\n",
       "      <td>h</td>\n",
       "      <td>S</td>\n",
       "      <td>Western Metropolitan</td>\n",
       "      <td>3</td>\n",
       "      <td>6.8</td>\n",
       "      <td>3016</td>\n",
       "      <td>3</td>\n",
       "      <td>2</td>\n",
       "      <td>4.0</td>\n",
       "      <td>436</td>\n",
       "      <td>NaN</td>\n",
       "      <td>1997.0</td>\n",
       "      <td>-37.85274</td>\n",
       "      <td>144.88738</td>\n",
       "      <td>6380</td>\n",
       "    </tr>\n",
       "    <tr>\n",
       "      <th>13578</th>\n",
       "      <td>h</td>\n",
       "      <td>PI</td>\n",
       "      <td>Western Metropolitan</td>\n",
       "      <td>4</td>\n",
       "      <td>6.8</td>\n",
       "      <td>3016</td>\n",
       "      <td>4</td>\n",
       "      <td>1</td>\n",
       "      <td>5.0</td>\n",
       "      <td>866</td>\n",
       "      <td>157.0</td>\n",
       "      <td>1920.0</td>\n",
       "      <td>-37.85908</td>\n",
       "      <td>144.89299</td>\n",
       "      <td>6380</td>\n",
       "    </tr>\n",
       "    <tr>\n",
       "      <th>13579</th>\n",
       "      <td>h</td>\n",
       "      <td>SP</td>\n",
       "      <td>Western Metropolitan</td>\n",
       "      <td>4</td>\n",
       "      <td>6.3</td>\n",
       "      <td>3013</td>\n",
       "      <td>4</td>\n",
       "      <td>1</td>\n",
       "      <td>1.0</td>\n",
       "      <td>362</td>\n",
       "      <td>112.0</td>\n",
       "      <td>1920.0</td>\n",
       "      <td>-37.81188</td>\n",
       "      <td>144.88449</td>\n",
       "      <td>6543</td>\n",
       "    </tr>\n",
       "  </tbody>\n",
       "</table>\n",
       "<p>13580 rows × 15 columns</p>\n",
       "</div>"
      ],
      "text/plain": [
       "      Type Method                  Regionname  Rooms  Distance  Postcode  \\\n",
       "0        h      S       Northern Metropolitan      2       2.5      3067   \n",
       "1        h      S       Northern Metropolitan      2       2.5      3067   \n",
       "2        h     SP       Northern Metropolitan      3       2.5      3067   \n",
       "3        h     PI       Northern Metropolitan      3       2.5      3067   \n",
       "4        h     VB       Northern Metropolitan      4       2.5      3067   \n",
       "...    ...    ...                         ...    ...       ...       ...   \n",
       "13575    h      S  South-Eastern Metropolitan      4      16.7      3150   \n",
       "13576    h     SP        Western Metropolitan      3       6.8      3016   \n",
       "13577    h      S        Western Metropolitan      3       6.8      3016   \n",
       "13578    h     PI        Western Metropolitan      4       6.8      3016   \n",
       "13579    h     SP        Western Metropolitan      4       6.3      3013   \n",
       "\n",
       "       Bedroom2  Bathroom  Car  Landsize  BuildingArea  YearBuilt  Lattitude  \\\n",
       "0             2         1  1.0       202           NaN        NaN  -37.79960   \n",
       "1             2         1  0.0       156          79.0     1900.0  -37.80790   \n",
       "2             3         2  0.0       134         150.0     1900.0  -37.80930   \n",
       "3             3         2  1.0        94           NaN        NaN  -37.79690   \n",
       "4             3         1  2.0       120         142.0     2014.0  -37.80720   \n",
       "...         ...       ...  ...       ...           ...        ...        ...   \n",
       "13575         4         2  2.0       652           NaN     1981.0  -37.90562   \n",
       "13576         3         2  2.0       333         133.0     1995.0  -37.85927   \n",
       "13577         3         2  4.0       436           NaN     1997.0  -37.85274   \n",
       "13578         4         1  5.0       866         157.0     1920.0  -37.85908   \n",
       "13579         4         1  1.0       362         112.0     1920.0  -37.81188   \n",
       "\n",
       "       Longtitude  Propertycount  \n",
       "0       144.99840           4019  \n",
       "1       144.99340           4019  \n",
       "2       144.99440           4019  \n",
       "3       144.99690           4019  \n",
       "4       144.99410           4019  \n",
       "...           ...            ...  \n",
       "13575   145.16761           7392  \n",
       "13576   144.87904           6380  \n",
       "13577   144.88738           6380  \n",
       "13578   144.89299           6380  \n",
       "13579   144.88449           6543  \n",
       "\n",
       "[13580 rows x 15 columns]"
      ]
     },
     "execution_count": 11,
     "metadata": {},
     "output_type": "execute_result"
    }
   ],
   "source": [
    "X=data[allcols]\n",
    "X"
   ]
  },
  {
   "cell_type": "markdown",
   "id": "237bae39-81a5-4645-88f6-00d958064b80",
   "metadata": {},
   "source": [
    "Now we will split the data into training and testing data"
   ]
  },
  {
   "cell_type": "code",
   "execution_count": 12,
   "id": "adbe743d-24b0-45bf-97e1-e32d8185d540",
   "metadata": {},
   "outputs": [],
   "source": [
    "from sklearn.model_selection import train_test_split\n",
    "X_train,X_valid,Y_train,Y_valid = train_test_split(X,Y,random_state=0)"
   ]
  },
  {
   "cell_type": "markdown",
   "id": "be6116bb-384c-408f-a13e-6a1991d117cb",
   "metadata": {},
   "source": [
    "Now that we have our training and validation data,\n",
    "lets take care of the missing values in our training data"
   ]
  },
  {
   "cell_type": "markdown",
   "id": "e35901e2-9180-4181-b04d-be9bbdb6293b",
   "metadata": {},
   "source": [
    "Lets create an imputer object"
   ]
  },
  {
   "cell_type": "code",
   "execution_count": 13,
   "id": "bf0138b3-da90-4d4f-8488-ff1efe89f3f2",
   "metadata": {},
   "outputs": [],
   "source": [
    "from sklearn.impute import SimpleImputer\n",
    "imputer1 = SimpleImputer(strategy='mean')\n",
    "imputer2 = SimpleImputer(strategy='most_frequent')"
   ]
  },
  {
   "cell_type": "markdown",
   "id": "54200235-4195-4f21-82ad-d181a3a918f0",
   "metadata": {},
   "source": [
    "We have created two imputer objects.\n",
    "One for imputing numeric columns.\n",
    "Another for imputing categorical columns."
   ]
  },
  {
   "cell_type": "markdown",
   "id": "8e9069ba-37e3-4ce8-8a07-01a2c6d6a82d",
   "metadata": {},
   "source": [
    "The reasons being:\n",
    "- imputer1 imputes numeric data, so the mean/median value makes most sense.\n",
    "- imputer2 imputes categorical data, so mean/median doesnt make much sence, so its safer to go with most frequent elements"
   ]
  },
  {
   "cell_type": "code",
   "execution_count": 14,
   "id": "8f584ab0-6725-4a02-b3e8-df12833066c8",
   "metadata": {},
   "outputs": [],
   "source": [
    "X_tr = pd.DataFrame(imputer1.fit_transform(X_train[numcols]))\n",
    "X_val = pd.DataFrame(imputer1.transform(X_valid[numcols]))\n",
    "X_tr.columns=X_train[numcols].columns\n",
    "X_val.columns=X_valid[numcols].columns"
   ]
  },
  {
   "cell_type": "markdown",
   "id": "988b0d76-1941-479c-b646-519bc0579a3e",
   "metadata": {},
   "source": [
    "The numeric columns have been imputed.\n",
    "The column names restored as well."
   ]
  },
  {
   "cell_type": "code",
   "execution_count": 15,
   "id": "29b51eeb-96ca-4342-9c97-f313ca484330",
   "metadata": {},
   "outputs": [],
   "source": [
    "X_tr2 = pd.DataFrame(imputer2.fit_transform(X_train[catcols]))\n",
    "X_tr2.columns=X_train[catcols].columns\n",
    "X_val2 = pd.DataFrame(imputer2.transform(X_valid[catcols]))\n",
    "X_val2.columns=X_valid[catcols].columns"
   ]
  },
  {
   "cell_type": "markdown",
   "id": "86378905-81a5-4b47-818d-e5fe468b2927",
   "metadata": {},
   "source": [
    "The categorical columns have been imputed.\n",
    "The column names restored as well."
   ]
  },
  {
   "cell_type": "code",
   "execution_count": 16,
   "id": "c22d8f7a-4795-42ad-a293-0611e4945690",
   "metadata": {},
   "outputs": [],
   "source": [
    "X_train = pd.concat([X_tr, X_tr2], axis=1)\n",
    "X_valid = pd.concat([X_val, X_val2], axis=1)"
   ]
  },
  {
   "cell_type": "markdown",
   "id": "9c539772-b1e0-4c7b-b95b-dafd5715c122",
   "metadata": {},
   "source": [
    "We now concatenate the two imputed datasets to form the overall training data.\n",
    "This includes both the Categorical as well as Numeric variables."
   ]
  },
  {
   "cell_type": "markdown",
   "id": "39da677c-0b12-4fc1-83df-5a4beb58bcd1",
   "metadata": {},
   "source": [
    "Now our dataset just needs encoding and it will be ready for fitting.\n",
    "Lets have a look at out current X_train"
   ]
  },
  {
   "cell_type": "code",
   "execution_count": 17,
   "id": "6b9af8d2-265b-413a-834c-3d6ba54758ae",
   "metadata": {},
   "outputs": [
    {
     "data": {
      "text/html": [
       "<div>\n",
       "<style scoped>\n",
       "    .dataframe tbody tr th:only-of-type {\n",
       "        vertical-align: middle;\n",
       "    }\n",
       "\n",
       "    .dataframe tbody tr th {\n",
       "        vertical-align: top;\n",
       "    }\n",
       "\n",
       "    .dataframe thead th {\n",
       "        text-align: right;\n",
       "    }\n",
       "</style>\n",
       "<table border=\"1\" class=\"dataframe\">\n",
       "  <thead>\n",
       "    <tr style=\"text-align: right;\">\n",
       "      <th></th>\n",
       "      <th>Rooms</th>\n",
       "      <th>Distance</th>\n",
       "      <th>Postcode</th>\n",
       "      <th>Bedroom2</th>\n",
       "      <th>Bathroom</th>\n",
       "      <th>Car</th>\n",
       "      <th>Landsize</th>\n",
       "      <th>BuildingArea</th>\n",
       "      <th>YearBuilt</th>\n",
       "      <th>Lattitude</th>\n",
       "      <th>Longtitude</th>\n",
       "      <th>Propertycount</th>\n",
       "      <th>Type</th>\n",
       "      <th>Method</th>\n",
       "      <th>Regionname</th>\n",
       "    </tr>\n",
       "  </thead>\n",
       "  <tbody>\n",
       "    <tr>\n",
       "      <th>0</th>\n",
       "      <td>3.0</td>\n",
       "      <td>9.2</td>\n",
       "      <td>3104.0</td>\n",
       "      <td>3.0</td>\n",
       "      <td>2.0</td>\n",
       "      <td>2.0</td>\n",
       "      <td>368.0</td>\n",
       "      <td>177.000000</td>\n",
       "      <td>2009.000000</td>\n",
       "      <td>-37.78460</td>\n",
       "      <td>145.09350</td>\n",
       "      <td>7809.0</td>\n",
       "      <td>h</td>\n",
       "      <td>S</td>\n",
       "      <td>Southern Metropolitan</td>\n",
       "    </tr>\n",
       "    <tr>\n",
       "      <th>1</th>\n",
       "      <td>2.0</td>\n",
       "      <td>10.5</td>\n",
       "      <td>3081.0</td>\n",
       "      <td>2.0</td>\n",
       "      <td>1.0</td>\n",
       "      <td>2.0</td>\n",
       "      <td>586.0</td>\n",
       "      <td>80.000000</td>\n",
       "      <td>1955.000000</td>\n",
       "      <td>-37.74350</td>\n",
       "      <td>145.04860</td>\n",
       "      <td>2947.0</td>\n",
       "      <td>h</td>\n",
       "      <td>S</td>\n",
       "      <td>Eastern Metropolitan</td>\n",
       "    </tr>\n",
       "    <tr>\n",
       "      <th>2</th>\n",
       "      <td>2.0</td>\n",
       "      <td>11.2</td>\n",
       "      <td>3145.0</td>\n",
       "      <td>2.0</td>\n",
       "      <td>1.0</td>\n",
       "      <td>1.0</td>\n",
       "      <td>348.0</td>\n",
       "      <td>154.655601</td>\n",
       "      <td>1964.938304</td>\n",
       "      <td>-37.86720</td>\n",
       "      <td>145.04320</td>\n",
       "      <td>8801.0</td>\n",
       "      <td>h</td>\n",
       "      <td>S</td>\n",
       "      <td>Southern Metropolitan</td>\n",
       "    </tr>\n",
       "    <tr>\n",
       "      <th>3</th>\n",
       "      <td>3.0</td>\n",
       "      <td>19.6</td>\n",
       "      <td>3076.0</td>\n",
       "      <td>3.0</td>\n",
       "      <td>1.0</td>\n",
       "      <td>1.0</td>\n",
       "      <td>521.0</td>\n",
       "      <td>154.655601</td>\n",
       "      <td>1964.938304</td>\n",
       "      <td>-37.63854</td>\n",
       "      <td>145.05179</td>\n",
       "      <td>10926.0</td>\n",
       "      <td>h</td>\n",
       "      <td>S</td>\n",
       "      <td>Northern Metropolitan</td>\n",
       "    </tr>\n",
       "    <tr>\n",
       "      <th>4</th>\n",
       "      <td>4.0</td>\n",
       "      <td>11.4</td>\n",
       "      <td>3163.0</td>\n",
       "      <td>3.0</td>\n",
       "      <td>2.0</td>\n",
       "      <td>2.0</td>\n",
       "      <td>687.0</td>\n",
       "      <td>237.000000</td>\n",
       "      <td>1983.000000</td>\n",
       "      <td>-37.89310</td>\n",
       "      <td>145.04790</td>\n",
       "      <td>7822.0</td>\n",
       "      <td>h</td>\n",
       "      <td>S</td>\n",
       "      <td>Southern Metropolitan</td>\n",
       "    </tr>\n",
       "    <tr>\n",
       "      <th>...</th>\n",
       "      <td>...</td>\n",
       "      <td>...</td>\n",
       "      <td>...</td>\n",
       "      <td>...</td>\n",
       "      <td>...</td>\n",
       "      <td>...</td>\n",
       "      <td>...</td>\n",
       "      <td>...</td>\n",
       "      <td>...</td>\n",
       "      <td>...</td>\n",
       "      <td>...</td>\n",
       "      <td>...</td>\n",
       "      <td>...</td>\n",
       "      <td>...</td>\n",
       "      <td>...</td>\n",
       "    </tr>\n",
       "    <tr>\n",
       "      <th>10180</th>\n",
       "      <td>3.0</td>\n",
       "      <td>5.2</td>\n",
       "      <td>3056.0</td>\n",
       "      <td>3.0</td>\n",
       "      <td>1.0</td>\n",
       "      <td>2.0</td>\n",
       "      <td>212.0</td>\n",
       "      <td>154.655601</td>\n",
       "      <td>1964.938304</td>\n",
       "      <td>-37.77695</td>\n",
       "      <td>144.95785</td>\n",
       "      <td>11918.0</td>\n",
       "      <td>h</td>\n",
       "      <td>SP</td>\n",
       "      <td>Northern Metropolitan</td>\n",
       "    </tr>\n",
       "    <tr>\n",
       "      <th>10181</th>\n",
       "      <td>3.0</td>\n",
       "      <td>10.5</td>\n",
       "      <td>3081.0</td>\n",
       "      <td>3.0</td>\n",
       "      <td>1.0</td>\n",
       "      <td>1.0</td>\n",
       "      <td>748.0</td>\n",
       "      <td>101.000000</td>\n",
       "      <td>1950.000000</td>\n",
       "      <td>-37.74160</td>\n",
       "      <td>145.04810</td>\n",
       "      <td>2947.0</td>\n",
       "      <td>h</td>\n",
       "      <td>S</td>\n",
       "      <td>Eastern Metropolitan</td>\n",
       "    </tr>\n",
       "    <tr>\n",
       "      <th>10182</th>\n",
       "      <td>4.0</td>\n",
       "      <td>6.7</td>\n",
       "      <td>3058.0</td>\n",
       "      <td>4.0</td>\n",
       "      <td>2.0</td>\n",
       "      <td>2.0</td>\n",
       "      <td>441.0</td>\n",
       "      <td>255.000000</td>\n",
       "      <td>2002.000000</td>\n",
       "      <td>-37.73572</td>\n",
       "      <td>144.97256</td>\n",
       "      <td>11204.0</td>\n",
       "      <td>h</td>\n",
       "      <td>PI</td>\n",
       "      <td>Northern Metropolitan</td>\n",
       "    </tr>\n",
       "    <tr>\n",
       "      <th>10183</th>\n",
       "      <td>3.0</td>\n",
       "      <td>12.0</td>\n",
       "      <td>3073.0</td>\n",
       "      <td>3.0</td>\n",
       "      <td>1.0</td>\n",
       "      <td>1.0</td>\n",
       "      <td>606.0</td>\n",
       "      <td>154.655601</td>\n",
       "      <td>1964.938304</td>\n",
       "      <td>-37.72057</td>\n",
       "      <td>145.02615</td>\n",
       "      <td>21650.0</td>\n",
       "      <td>h</td>\n",
       "      <td>S</td>\n",
       "      <td>Northern Metropolitan</td>\n",
       "    </tr>\n",
       "    <tr>\n",
       "      <th>10184</th>\n",
       "      <td>4.0</td>\n",
       "      <td>6.4</td>\n",
       "      <td>3011.0</td>\n",
       "      <td>4.0</td>\n",
       "      <td>2.0</td>\n",
       "      <td>1.0</td>\n",
       "      <td>319.0</td>\n",
       "      <td>130.000000</td>\n",
       "      <td>1915.000000</td>\n",
       "      <td>-37.79430</td>\n",
       "      <td>144.88750</td>\n",
       "      <td>7570.0</td>\n",
       "      <td>h</td>\n",
       "      <td>SP</td>\n",
       "      <td>Western Metropolitan</td>\n",
       "    </tr>\n",
       "  </tbody>\n",
       "</table>\n",
       "<p>10185 rows × 15 columns</p>\n",
       "</div>"
      ],
      "text/plain": [
       "       Rooms  Distance  Postcode  Bedroom2  Bathroom  Car  Landsize  \\\n",
       "0        3.0       9.2    3104.0       3.0       2.0  2.0     368.0   \n",
       "1        2.0      10.5    3081.0       2.0       1.0  2.0     586.0   \n",
       "2        2.0      11.2    3145.0       2.0       1.0  1.0     348.0   \n",
       "3        3.0      19.6    3076.0       3.0       1.0  1.0     521.0   \n",
       "4        4.0      11.4    3163.0       3.0       2.0  2.0     687.0   \n",
       "...      ...       ...       ...       ...       ...  ...       ...   \n",
       "10180    3.0       5.2    3056.0       3.0       1.0  2.0     212.0   \n",
       "10181    3.0      10.5    3081.0       3.0       1.0  1.0     748.0   \n",
       "10182    4.0       6.7    3058.0       4.0       2.0  2.0     441.0   \n",
       "10183    3.0      12.0    3073.0       3.0       1.0  1.0     606.0   \n",
       "10184    4.0       6.4    3011.0       4.0       2.0  1.0     319.0   \n",
       "\n",
       "       BuildingArea    YearBuilt  Lattitude  Longtitude  Propertycount Type  \\\n",
       "0        177.000000  2009.000000  -37.78460   145.09350         7809.0    h   \n",
       "1         80.000000  1955.000000  -37.74350   145.04860         2947.0    h   \n",
       "2        154.655601  1964.938304  -37.86720   145.04320         8801.0    h   \n",
       "3        154.655601  1964.938304  -37.63854   145.05179        10926.0    h   \n",
       "4        237.000000  1983.000000  -37.89310   145.04790         7822.0    h   \n",
       "...             ...          ...        ...         ...            ...  ...   \n",
       "10180    154.655601  1964.938304  -37.77695   144.95785        11918.0    h   \n",
       "10181    101.000000  1950.000000  -37.74160   145.04810         2947.0    h   \n",
       "10182    255.000000  2002.000000  -37.73572   144.97256        11204.0    h   \n",
       "10183    154.655601  1964.938304  -37.72057   145.02615        21650.0    h   \n",
       "10184    130.000000  1915.000000  -37.79430   144.88750         7570.0    h   \n",
       "\n",
       "      Method             Regionname  \n",
       "0          S  Southern Metropolitan  \n",
       "1          S   Eastern Metropolitan  \n",
       "2          S  Southern Metropolitan  \n",
       "3          S  Northern Metropolitan  \n",
       "4          S  Southern Metropolitan  \n",
       "...      ...                    ...  \n",
       "10180     SP  Northern Metropolitan  \n",
       "10181      S   Eastern Metropolitan  \n",
       "10182     PI  Northern Metropolitan  \n",
       "10183      S  Northern Metropolitan  \n",
       "10184     SP   Western Metropolitan  \n",
       "\n",
       "[10185 rows x 15 columns]"
      ]
     },
     "execution_count": 17,
     "metadata": {},
     "output_type": "execute_result"
    }
   ],
   "source": [
    "X_train"
   ]
  },
  {
   "cell_type": "markdown",
   "id": "517255a1-9a17-493d-a0b5-ea19d12c99fd",
   "metadata": {},
   "source": [
    "We have now succesfully cleaned and arranged the data for analysing.\n",
    "But theres still a little to go.\n",
    "We can encome the categorical columns and convert them to numbers.\n",
    "This makes it easier for the model to analyse and deliver better predictions."
   ]
  },
  {
   "cell_type": "code",
   "execution_count": 18,
   "id": "a377bff6-54ef-4b8e-ad21-d156355d0ed1",
   "metadata": {},
   "outputs": [
    {
     "data": {
      "text/html": [
       "<div>\n",
       "<style scoped>\n",
       "    .dataframe tbody tr th:only-of-type {\n",
       "        vertical-align: middle;\n",
       "    }\n",
       "\n",
       "    .dataframe tbody tr th {\n",
       "        vertical-align: top;\n",
       "    }\n",
       "\n",
       "    .dataframe thead th {\n",
       "        text-align: right;\n",
       "    }\n",
       "</style>\n",
       "<table border=\"1\" class=\"dataframe\">\n",
       "  <thead>\n",
       "    <tr style=\"text-align: right;\">\n",
       "      <th></th>\n",
       "      <th>Rooms</th>\n",
       "      <th>Distance</th>\n",
       "      <th>Postcode</th>\n",
       "      <th>Bedroom2</th>\n",
       "      <th>Bathroom</th>\n",
       "      <th>Car</th>\n",
       "      <th>Landsize</th>\n",
       "      <th>BuildingArea</th>\n",
       "      <th>YearBuilt</th>\n",
       "      <th>Lattitude</th>\n",
       "      <th>Longtitude</th>\n",
       "      <th>Propertycount</th>\n",
       "      <th>Type</th>\n",
       "      <th>Method</th>\n",
       "      <th>Regionname</th>\n",
       "    </tr>\n",
       "  </thead>\n",
       "  <tbody>\n",
       "    <tr>\n",
       "      <th>0</th>\n",
       "      <td>3.0</td>\n",
       "      <td>9.2</td>\n",
       "      <td>3104.0</td>\n",
       "      <td>3.0</td>\n",
       "      <td>2.0</td>\n",
       "      <td>2.0</td>\n",
       "      <td>368.0</td>\n",
       "      <td>177.000000</td>\n",
       "      <td>2009.000000</td>\n",
       "      <td>-37.78460</td>\n",
       "      <td>145.09350</td>\n",
       "      <td>7809.0</td>\n",
       "      <td>0.0</td>\n",
       "      <td>1.0</td>\n",
       "      <td>5.0</td>\n",
       "    </tr>\n",
       "    <tr>\n",
       "      <th>1</th>\n",
       "      <td>2.0</td>\n",
       "      <td>10.5</td>\n",
       "      <td>3081.0</td>\n",
       "      <td>2.0</td>\n",
       "      <td>1.0</td>\n",
       "      <td>2.0</td>\n",
       "      <td>586.0</td>\n",
       "      <td>80.000000</td>\n",
       "      <td>1955.000000</td>\n",
       "      <td>-37.74350</td>\n",
       "      <td>145.04860</td>\n",
       "      <td>2947.0</td>\n",
       "      <td>0.0</td>\n",
       "      <td>1.0</td>\n",
       "      <td>0.0</td>\n",
       "    </tr>\n",
       "    <tr>\n",
       "      <th>2</th>\n",
       "      <td>2.0</td>\n",
       "      <td>11.2</td>\n",
       "      <td>3145.0</td>\n",
       "      <td>2.0</td>\n",
       "      <td>1.0</td>\n",
       "      <td>1.0</td>\n",
       "      <td>348.0</td>\n",
       "      <td>154.655601</td>\n",
       "      <td>1964.938304</td>\n",
       "      <td>-37.86720</td>\n",
       "      <td>145.04320</td>\n",
       "      <td>8801.0</td>\n",
       "      <td>0.0</td>\n",
       "      <td>1.0</td>\n",
       "      <td>5.0</td>\n",
       "    </tr>\n",
       "    <tr>\n",
       "      <th>3</th>\n",
       "      <td>3.0</td>\n",
       "      <td>19.6</td>\n",
       "      <td>3076.0</td>\n",
       "      <td>3.0</td>\n",
       "      <td>1.0</td>\n",
       "      <td>1.0</td>\n",
       "      <td>521.0</td>\n",
       "      <td>154.655601</td>\n",
       "      <td>1964.938304</td>\n",
       "      <td>-37.63854</td>\n",
       "      <td>145.05179</td>\n",
       "      <td>10926.0</td>\n",
       "      <td>0.0</td>\n",
       "      <td>1.0</td>\n",
       "      <td>2.0</td>\n",
       "    </tr>\n",
       "    <tr>\n",
       "      <th>4</th>\n",
       "      <td>4.0</td>\n",
       "      <td>11.4</td>\n",
       "      <td>3163.0</td>\n",
       "      <td>3.0</td>\n",
       "      <td>2.0</td>\n",
       "      <td>2.0</td>\n",
       "      <td>687.0</td>\n",
       "      <td>237.000000</td>\n",
       "      <td>1983.000000</td>\n",
       "      <td>-37.89310</td>\n",
       "      <td>145.04790</td>\n",
       "      <td>7822.0</td>\n",
       "      <td>0.0</td>\n",
       "      <td>1.0</td>\n",
       "      <td>5.0</td>\n",
       "    </tr>\n",
       "    <tr>\n",
       "      <th>...</th>\n",
       "      <td>...</td>\n",
       "      <td>...</td>\n",
       "      <td>...</td>\n",
       "      <td>...</td>\n",
       "      <td>...</td>\n",
       "      <td>...</td>\n",
       "      <td>...</td>\n",
       "      <td>...</td>\n",
       "      <td>...</td>\n",
       "      <td>...</td>\n",
       "      <td>...</td>\n",
       "      <td>...</td>\n",
       "      <td>...</td>\n",
       "      <td>...</td>\n",
       "      <td>...</td>\n",
       "    </tr>\n",
       "    <tr>\n",
       "      <th>10180</th>\n",
       "      <td>3.0</td>\n",
       "      <td>5.2</td>\n",
       "      <td>3056.0</td>\n",
       "      <td>3.0</td>\n",
       "      <td>1.0</td>\n",
       "      <td>2.0</td>\n",
       "      <td>212.0</td>\n",
       "      <td>154.655601</td>\n",
       "      <td>1964.938304</td>\n",
       "      <td>-37.77695</td>\n",
       "      <td>144.95785</td>\n",
       "      <td>11918.0</td>\n",
       "      <td>0.0</td>\n",
       "      <td>3.0</td>\n",
       "      <td>2.0</td>\n",
       "    </tr>\n",
       "    <tr>\n",
       "      <th>10181</th>\n",
       "      <td>3.0</td>\n",
       "      <td>10.5</td>\n",
       "      <td>3081.0</td>\n",
       "      <td>3.0</td>\n",
       "      <td>1.0</td>\n",
       "      <td>1.0</td>\n",
       "      <td>748.0</td>\n",
       "      <td>101.000000</td>\n",
       "      <td>1950.000000</td>\n",
       "      <td>-37.74160</td>\n",
       "      <td>145.04810</td>\n",
       "      <td>2947.0</td>\n",
       "      <td>0.0</td>\n",
       "      <td>1.0</td>\n",
       "      <td>0.0</td>\n",
       "    </tr>\n",
       "    <tr>\n",
       "      <th>10182</th>\n",
       "      <td>4.0</td>\n",
       "      <td>6.7</td>\n",
       "      <td>3058.0</td>\n",
       "      <td>4.0</td>\n",
       "      <td>2.0</td>\n",
       "      <td>2.0</td>\n",
       "      <td>441.0</td>\n",
       "      <td>255.000000</td>\n",
       "      <td>2002.000000</td>\n",
       "      <td>-37.73572</td>\n",
       "      <td>144.97256</td>\n",
       "      <td>11204.0</td>\n",
       "      <td>0.0</td>\n",
       "      <td>0.0</td>\n",
       "      <td>2.0</td>\n",
       "    </tr>\n",
       "    <tr>\n",
       "      <th>10183</th>\n",
       "      <td>3.0</td>\n",
       "      <td>12.0</td>\n",
       "      <td>3073.0</td>\n",
       "      <td>3.0</td>\n",
       "      <td>1.0</td>\n",
       "      <td>1.0</td>\n",
       "      <td>606.0</td>\n",
       "      <td>154.655601</td>\n",
       "      <td>1964.938304</td>\n",
       "      <td>-37.72057</td>\n",
       "      <td>145.02615</td>\n",
       "      <td>21650.0</td>\n",
       "      <td>0.0</td>\n",
       "      <td>1.0</td>\n",
       "      <td>2.0</td>\n",
       "    </tr>\n",
       "    <tr>\n",
       "      <th>10184</th>\n",
       "      <td>4.0</td>\n",
       "      <td>6.4</td>\n",
       "      <td>3011.0</td>\n",
       "      <td>4.0</td>\n",
       "      <td>2.0</td>\n",
       "      <td>1.0</td>\n",
       "      <td>319.0</td>\n",
       "      <td>130.000000</td>\n",
       "      <td>1915.000000</td>\n",
       "      <td>-37.79430</td>\n",
       "      <td>144.88750</td>\n",
       "      <td>7570.0</td>\n",
       "      <td>0.0</td>\n",
       "      <td>3.0</td>\n",
       "      <td>6.0</td>\n",
       "    </tr>\n",
       "  </tbody>\n",
       "</table>\n",
       "<p>10185 rows × 15 columns</p>\n",
       "</div>"
      ],
      "text/plain": [
       "       Rooms  Distance  Postcode  Bedroom2  Bathroom  Car  Landsize  \\\n",
       "0        3.0       9.2    3104.0       3.0       2.0  2.0     368.0   \n",
       "1        2.0      10.5    3081.0       2.0       1.0  2.0     586.0   \n",
       "2        2.0      11.2    3145.0       2.0       1.0  1.0     348.0   \n",
       "3        3.0      19.6    3076.0       3.0       1.0  1.0     521.0   \n",
       "4        4.0      11.4    3163.0       3.0       2.0  2.0     687.0   \n",
       "...      ...       ...       ...       ...       ...  ...       ...   \n",
       "10180    3.0       5.2    3056.0       3.0       1.0  2.0     212.0   \n",
       "10181    3.0      10.5    3081.0       3.0       1.0  1.0     748.0   \n",
       "10182    4.0       6.7    3058.0       4.0       2.0  2.0     441.0   \n",
       "10183    3.0      12.0    3073.0       3.0       1.0  1.0     606.0   \n",
       "10184    4.0       6.4    3011.0       4.0       2.0  1.0     319.0   \n",
       "\n",
       "       BuildingArea    YearBuilt  Lattitude  Longtitude  Propertycount  Type  \\\n",
       "0        177.000000  2009.000000  -37.78460   145.09350         7809.0   0.0   \n",
       "1         80.000000  1955.000000  -37.74350   145.04860         2947.0   0.0   \n",
       "2        154.655601  1964.938304  -37.86720   145.04320         8801.0   0.0   \n",
       "3        154.655601  1964.938304  -37.63854   145.05179        10926.0   0.0   \n",
       "4        237.000000  1983.000000  -37.89310   145.04790         7822.0   0.0   \n",
       "...             ...          ...        ...         ...            ...   ...   \n",
       "10180    154.655601  1964.938304  -37.77695   144.95785        11918.0   0.0   \n",
       "10181    101.000000  1950.000000  -37.74160   145.04810         2947.0   0.0   \n",
       "10182    255.000000  2002.000000  -37.73572   144.97256        11204.0   0.0   \n",
       "10183    154.655601  1964.938304  -37.72057   145.02615        21650.0   0.0   \n",
       "10184    130.000000  1915.000000  -37.79430   144.88750         7570.0   0.0   \n",
       "\n",
       "       Method  Regionname  \n",
       "0         1.0         5.0  \n",
       "1         1.0         0.0  \n",
       "2         1.0         5.0  \n",
       "3         1.0         2.0  \n",
       "4         1.0         5.0  \n",
       "...       ...         ...  \n",
       "10180     3.0         2.0  \n",
       "10181     1.0         0.0  \n",
       "10182     0.0         2.0  \n",
       "10183     1.0         2.0  \n",
       "10184     3.0         6.0  \n",
       "\n",
       "[10185 rows x 15 columns]"
      ]
     },
     "execution_count": 18,
     "metadata": {},
     "output_type": "execute_result"
    }
   ],
   "source": [
    "from sklearn.preprocessing import OrdinalEncoder\n",
    "encoder=OrdinalEncoder(handle_unknown='use_encoded_value', unknown_value=-1)\n",
    "X_tr = X_train.copy()\n",
    "X_val = X_valid.copy()\n",
    "X_tr[catcols]=encoder.fit_transform(X_train[catcols])\n",
    "X_val[catcols] = encoder.transform(X_valid[catcols])  \n",
    "X_tr"
   ]
  },
  {
   "cell_type": "markdown",
   "id": "5ec55d6e-ab04-47e8-af9f-99778c431cdf",
   "metadata": {},
   "source": [
    "We have now successfully encoded the data.\n",
    "It is now ready to be used for model fitting.\n",
    "From our study,\n",
    "the best model yet we have found is\n",
    "XGBoost.\n",
    "But we will try all three models."
   ]
  },
  {
   "cell_type": "markdown",
   "id": "0ca69fb8-f421-426c-b4b9-29ad1202625d",
   "metadata": {},
   "source": [
    "Lets get the mae detecting function as well as an error detecting function"
   ]
  },
  {
   "cell_type": "code",
   "execution_count": 19,
   "id": "4d3ee3cc-ef65-4bee-98bd-dd789b86d247",
   "metadata": {},
   "outputs": [],
   "source": [
    "from sklearn.metrics import mean_absolute_error\n",
    "from sklearn.tree import DecisionTreeRegressor\n",
    "from sklearn.model_selection import cross_val_score"
   ]
  },
  {
   "cell_type": "code",
   "execution_count": 81,
   "id": "786ddbb8-3ad0-4702-995a-3d2d8525acc4",
   "metadata": {},
   "outputs": [],
   "source": [
    "def getmaecr(model,X_tr,Y_train):\n",
    "    scores = -1 * cross_val_score(model,X_tr,Y_train,cv=200,scoring='neg_mean_absolute_error')\n",
    "    return scores"
   ]
  },
  {
   "cell_type": "markdown",
   "id": "aa654d32-c1e2-4cf4-aa05-e1613a0833f9",
   "metadata": {},
   "source": [
    "We will also create an err function to keep track of the accuracy of predictions make by our model"
   ]
  },
  {
   "cell_type": "code",
   "execution_count": 21,
   "id": "294e0b3d-2a79-4138-8564-7440053b9669",
   "metadata": {},
   "outputs": [],
   "source": [
    "avg_price = Y.mean()\n",
    "def err(mae):\n",
    "    return (mae/avg_price)*100"
   ]
  },
  {
   "cell_type": "markdown",
   "id": "20f4c58b-7369-49a2-90f3-d1cdcd5983b8",
   "metadata": {},
   "source": [
    "Lets use Desicion Tree Regressor first"
   ]
  },
  {
   "cell_type": "code",
   "execution_count": 20,
   "id": "dd3679a8-a257-432e-b70e-2c496e30e746",
   "metadata": {},
   "outputs": [
    {
     "data": {
      "text/plain": [
       "225049.78841433482"
      ]
     },
     "execution_count": 20,
     "metadata": {},
     "output_type": "execute_result"
    }
   ],
   "source": [
    "my_model=DecisionTreeRegressor(random_state=0)\n",
    "mae=getmaecr(my_model,X_tr,Y_train)\n",
    "mae.min()"
   ]
  },
  {
   "cell_type": "markdown",
   "id": "c642337a-fbe6-4e01-afd7-3a4a22983d78",
   "metadata": {},
   "source": [
    "So the MAE for DTR is 225000 approx. \n",
    "Lets find out the error"
   ]
  },
  {
   "cell_type": "code",
   "execution_count": 21,
   "id": "4e2a92ed-5377-4381-8628-a4ddbc39673c",
   "metadata": {},
   "outputs": [
    {
     "data": {
      "text/plain": [
       "20.9215505474749"
      ]
     },
     "execution_count": 21,
     "metadata": {},
     "output_type": "execute_result"
    }
   ],
   "source": [
    "mae=mae.min()\n",
    "error=err(mae)\n",
    "error"
   ]
  },
  {
   "cell_type": "markdown",
   "id": "34bc9341-3646-4454-b85f-2c10bf3626db",
   "metadata": {},
   "source": [
    "Our DTR model shows an accuracy of about 79% as of now.\n",
    "Lets try the RFR model to see if we get better results."
   ]
  },
  {
   "cell_type": "markdown",
   "id": "87ae3253-1796-42cb-8cd6-0035ce99064f",
   "metadata": {},
   "source": [
    "Now we move on to using the RFR model"
   ]
  },
  {
   "cell_type": "code",
   "execution_count": 22,
   "id": "4b401c4d-16d7-4dd5-8dc2-9fe3f7335603",
   "metadata": {},
   "outputs": [
    {
     "data": {
      "text/plain": [
       "164718.5279056502"
      ]
     },
     "execution_count": 22,
     "metadata": {},
     "output_type": "execute_result"
    }
   ],
   "source": [
    "from sklearn.ensemble import RandomForestRegressor\n",
    "my_model=RandomForestRegressor(random_state=0)\n",
    "mae=getmaecr(my_model,X_tr,Y_train)\n",
    "mae=mae.min()\n",
    "mae"
   ]
  },
  {
   "cell_type": "markdown",
   "id": "5de56f1c-5acb-43af-a1fc-50e337b2be64",
   "metadata": {},
   "source": [
    "So the MAE for our RFR model is around 164700.\n",
    "Thats a significant drop from the DTR model.\n",
    "Lets have a look at the error."
   ]
  },
  {
   "cell_type": "code",
   "execution_count": 23,
   "id": "31a13b7b-c395-4dfa-b128-59c628e53778",
   "metadata": {},
   "outputs": [
    {
     "data": {
      "text/plain": [
       "15.312909343149633"
      ]
     },
     "execution_count": 23,
     "metadata": {},
     "output_type": "execute_result"
    }
   ],
   "source": [
    "error=err(mae)\n",
    "error"
   ]
  },
  {
   "cell_type": "markdown",
   "id": "509f74ef-0ce4-40fd-932a-37ae53e853bd",
   "metadata": {},
   "source": [
    "So the error is a little higher than 15%, which means our errors have decreased.\n",
    "by around 30%."
   ]
  },
  {
   "cell_type": "markdown",
   "id": "ff61f8a7-ee76-4083-83f7-aba6da8681e3",
   "metadata": {},
   "source": [
    "Upto what we did till now, we find that our accuracy is going opto 85%.\n",
    "\n",
    "We will next step into complex usage of XGBoost and make leaf adjustments to try to further improve our model."
   ]
  },
  {
   "cell_type": "markdown",
   "id": "f0966602-0415-44a6-b352-9fedf9020b05",
   "metadata": {},
   "source": [
    "We need to import the XGR\n",
    "Note: XGB is not available in sklearn.\n",
    "We will have to import xgboost instead"
   ]
  },
  {
   "cell_type": "code",
   "execution_count": 28,
   "id": "8438ce33-1e99-418a-b5bf-cd6c9260ec2b",
   "metadata": {},
   "outputs": [
    {
     "data": {
      "text/plain": [
       "159203.90064279578"
      ]
     },
     "execution_count": 28,
     "metadata": {},
     "output_type": "execute_result"
    }
   ],
   "source": [
    "from xgboost import XGBRegressor\n",
    "my_model=XGBRegressor(random_state=0)\n",
    "mae=getmaecr(my_model,X_tr,Y_train)\n",
    "mae=mae.min()\n",
    "mae"
   ]
  },
  {
   "cell_type": "markdown",
   "id": "4f453205-057e-40fd-88c6-4b443b517105",
   "metadata": {},
   "source": [
    "So the MAE is around 159200.\n",
    "What might the error be?"
   ]
  },
  {
   "cell_type": "code",
   "execution_count": 29,
   "id": "5da71d34-ea5d-4e5f-811a-6aee5fae28e8",
   "metadata": {},
   "outputs": [
    {
     "data": {
      "text/plain": [
       "14.800246994772401"
      ]
     },
     "execution_count": 29,
     "metadata": {},
     "output_type": "execute_result"
    }
   ],
   "source": [
    "error=err(mae)\n",
    "error"
   ]
  },
  {
   "cell_type": "markdown",
   "id": "625fb880-3197-403d-b7ca-8c32efc5c4b5",
   "metadata": {},
   "source": [
    "A 14.8% error!\n",
    "That would be 0.5% better than our RFR model's accuracy.\n",
    "There's still a lot we can do to improve our performance.\n",
    "Lets try to hit a 90% accuracy, we're currently at 85.2%."
   ]
  },
  {
   "cell_type": "markdown",
   "id": "e7cc28ab-12af-4b09-b305-174b3e2e7ae4",
   "metadata": {},
   "source": [
    "What can we do?\n",
    "- specify learning rate\n",
    "- find ideal leaf node\n",
    "- use early_stopping_rounds\n",
    "- increase cv"
   ]
  },
  {
   "cell_type": "markdown",
   "id": "72b56d00-2cb6-45cd-a70d-16e5143aa4f4",
   "metadata": {},
   "source": [
    "lets try a few of those"
   ]
  },
  {
   "cell_type": "code",
   "execution_count": 52,
   "id": "df9ab11d-7dd7-4514-8108-da1180809e1f",
   "metadata": {},
   "outputs": [
    {
     "data": {
      "text/plain": [
       "134175.49570235756"
      ]
     },
     "execution_count": 52,
     "metadata": {},
     "output_type": "execute_result"
    }
   ],
   "source": [
    "my_model = XGBRegressor(n_estimators=500,random_state=0,learning_rate=0.1,n_jobs=4)\n",
    "mae=getmaecr(my_model,X_tr,Y_train)\n",
    "mae=mae.min()\n",
    "mae"
   ]
  },
  {
   "cell_type": "code",
   "execution_count": 54,
   "id": "5276c9e0-f742-4845-87ff-6470c3fe1fbe",
   "metadata": {},
   "outputs": [
    {
     "data": {
      "text/plain": [
       "12.473503909282368"
      ]
     },
     "execution_count": 54,
     "metadata": {},
     "output_type": "execute_result"
    }
   ],
   "source": [
    "error=err(mae)\n",
    "error"
   ]
  },
  {
   "cell_type": "markdown",
   "id": "ee01f30b-337c-44a2-bcb9-6e456bc24865",
   "metadata": {},
   "source": [
    "It reduced our error by 2.5%\n",
    "We're making progress."
   ]
  },
  {
   "cell_type": "markdown",
   "id": "78799db4-e837-45f6-b13e-c3c7b485f605",
   "metadata": {},
   "source": [
    "The main contributor behind this is the cv increase (5 -> 20)"
   ]
  },
  {
   "cell_type": "markdown",
   "id": "264b89d4-3bf2-480d-86fc-a7d92df2023b",
   "metadata": {},
   "source": [
    "What if we increase cv to 30?"
   ]
  },
  {
   "cell_type": "code",
   "execution_count": 63,
   "id": "38bd4b32-e74f-4174-8130-959f497e2dd9",
   "metadata": {},
   "outputs": [
    {
     "data": {
      "text/plain": [
       "125178.4838679941"
      ]
     },
     "execution_count": 63,
     "metadata": {},
     "output_type": "execute_result"
    }
   ],
   "source": [
    "mae=getmaecr(my_model,X_tr,Y_train)\n",
    "mae=mae.min()\n",
    "mae"
   ]
  },
  {
   "cell_type": "code",
   "execution_count": 64,
   "id": "89fc8ee2-d5ba-474e-8fb5-df943e725048",
   "metadata": {},
   "outputs": [
    {
     "data": {
      "text/plain": [
       "11.637104820906794"
      ]
     },
     "execution_count": 64,
     "metadata": {},
     "output_type": "execute_result"
    }
   ],
   "source": [
    "error=err(mae)\n",
    "error"
   ]
  },
  {
   "cell_type": "markdown",
   "id": "119181f5-f015-4be5-893c-f6db8aa805be",
   "metadata": {},
   "source": [
    "While increasing the cv does work wonders, it does take a lot of time to run.\n",
    "As increasing the cv even once means XGR runs one more loop."
   ]
  },
  {
   "cell_type": "markdown",
   "id": "aba3dcc9-0219-4e67-9872-db59d5f67ccd",
   "metadata": {},
   "source": [
    "We will proceed with cv=100"
   ]
  },
  {
   "cell_type": "code",
   "execution_count": 82,
   "id": "488b4622-d705-4a5a-b758-3abf56131693",
   "metadata": {},
   "outputs": [
    {
     "data": {
      "text/plain": [
       "88723.74571078431"
      ]
     },
     "execution_count": 82,
     "metadata": {},
     "output_type": "execute_result"
    }
   ],
   "source": [
    "mae=getmaecr(my_model,X_tr,Y_train)\n",
    "mae=mae.min()\n",
    "mae"
   ]
  },
  {
   "cell_type": "code",
   "execution_count": 83,
   "id": "59859810-ff7e-48be-ae10-36c5c82c0dfc",
   "metadata": {},
   "outputs": [
    {
     "data": {
      "text/plain": [
       "8.248122976378893"
      ]
     },
     "execution_count": 83,
     "metadata": {},
     "output_type": "execute_result"
    }
   ],
   "source": [
    "err(mae)"
   ]
  },
  {
   "cell_type": "markdown",
   "id": "1b33ebb7-0c28-4601-8e28-2304afd0eb5b",
   "metadata": {},
   "source": [
    "Simply CV increase boosted our accuracy by 7%\n",
    "Since CV is directly proportional to the efficiency of the XGR."
   ]
  },
  {
   "cell_type": "markdown",
   "id": "1749ee15-2805-44cd-a1a3-fcda4159eef4",
   "metadata": {},
   "source": [
    "Currently, our model stands at approx 92% accuracy."
   ]
  },
  {
   "cell_type": "markdown",
   "id": "eb4b212e-04ed-4a33-8973-df3dbd100906",
   "metadata": {},
   "source": [
    "So we have acheived our goal of pushing the accuracy to 90%\n",
    "\n",
    "The model is ready."
   ]
  }
 ],
 "metadata": {
  "kernelspec": {
   "display_name": "Python 3 (ipykernel)",
   "language": "python",
   "name": "python3"
  },
  "language_info": {
   "codemirror_mode": {
    "name": "ipython",
    "version": 3
   },
   "file_extension": ".py",
   "mimetype": "text/x-python",
   "name": "python",
   "nbconvert_exporter": "python",
   "pygments_lexer": "ipython3",
   "version": "3.11.7"
  }
 },
 "nbformat": 4,
 "nbformat_minor": 5
}
